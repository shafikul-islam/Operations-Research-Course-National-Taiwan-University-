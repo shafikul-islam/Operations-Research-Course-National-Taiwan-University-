{
 "cells": [
  {
   "cell_type": "code",
   "execution_count": 1,
   "id": "e50f28a1-4aae-44a3-8d01-e24d07f271be",
   "metadata": {
    "tags": []
   },
   "outputs": [],
   "source": [
    "import pandas as pd\n",
    "from gurobipy import *"
   ]
  },
  {
   "cell_type": "code",
   "execution_count": 2,
   "id": "9bbf8703-20ee-4c0c-8210-aa59478eb25e",
   "metadata": {},
   "outputs": [],
   "source": [
    "problem2 = pd.read_excel('OR2_06_quiz_data .xlsx', 'Problem 2', header=[0,1])"
   ]
  },
  {
   "cell_type": "code",
   "execution_count": 3,
   "id": "349d5680-2bf9-4d1a-9487-a670805cb19f",
   "metadata": {
    "tags": []
   },
   "outputs": [
    {
     "data": {
      "text/html": [
       "<div>\n",
       "<style scoped>\n",
       "    .dataframe tbody tr th:only-of-type {\n",
       "        vertical-align: middle;\n",
       "    }\n",
       "\n",
       "    .dataframe tbody tr th {\n",
       "        vertical-align: top;\n",
       "    }\n",
       "\n",
       "    .dataframe thead tr th {\n",
       "        text-align: left;\n",
       "    }\n",
       "</style>\n",
       "<table border=\"1\" class=\"dataframe\">\n",
       "  <thead>\n",
       "    <tr>\n",
       "      <th></th>\n",
       "      <th>District \\n(from)</th>\n",
       "      <th colspan=\"8\" halign=\"left\">District (to)</th>\n",
       "      <th colspan=\"12\" halign=\"left\">Population</th>\n",
       "    </tr>\n",
       "    <tr>\n",
       "      <th></th>\n",
       "      <th>Unnamed: 0_level_1</th>\n",
       "      <th>1</th>\n",
       "      <th>2</th>\n",
       "      <th>3</th>\n",
       "      <th>4</th>\n",
       "      <th>5</th>\n",
       "      <th>6</th>\n",
       "      <th>7</th>\n",
       "      <th>8</th>\n",
       "      <th>Unnamed: 9_level_1</th>\n",
       "      <th>...</th>\n",
       "      <th>&amp;</th>\n",
       "      <th>1 &amp;</th>\n",
       "      <th>2 &amp;</th>\n",
       "      <th>3 &amp;</th>\n",
       "      <th>4 &amp;</th>\n",
       "      <th>5 &amp;</th>\n",
       "      <th>6 &amp;</th>\n",
       "      <th>7 &amp;</th>\n",
       "      <th>8 &amp;</th>\n",
       "      <th>\\\\</th>\n",
       "    </tr>\n",
       "  </thead>\n",
       "  <tbody>\n",
       "    <tr>\n",
       "      <th>0</th>\n",
       "      <td>1</td>\n",
       "      <td>0</td>\n",
       "      <td>3</td>\n",
       "      <td>4</td>\n",
       "      <td>6</td>\n",
       "      <td>8</td>\n",
       "      <td>9</td>\n",
       "      <td>8</td>\n",
       "      <td>10</td>\n",
       "      <td>40</td>\n",
       "      <td>...</td>\n",
       "      <td>1 &amp;</td>\n",
       "      <td>0 &amp;</td>\n",
       "      <td>3 &amp;</td>\n",
       "      <td>4 &amp;</td>\n",
       "      <td>6 &amp;</td>\n",
       "      <td>8 &amp;</td>\n",
       "      <td>9 &amp;</td>\n",
       "      <td>8 &amp;</td>\n",
       "      <td>10 &amp;</td>\n",
       "      <td>40 \\\\</td>\n",
       "    </tr>\n",
       "    <tr>\n",
       "      <th>1</th>\n",
       "      <td>2</td>\n",
       "      <td>3</td>\n",
       "      <td>0</td>\n",
       "      <td>5</td>\n",
       "      <td>4</td>\n",
       "      <td>8</td>\n",
       "      <td>6</td>\n",
       "      <td>12</td>\n",
       "      <td>9</td>\n",
       "      <td>30</td>\n",
       "      <td>...</td>\n",
       "      <td>2 &amp;</td>\n",
       "      <td>3 &amp;</td>\n",
       "      <td>0 &amp;</td>\n",
       "      <td>5 &amp;</td>\n",
       "      <td>4 &amp;</td>\n",
       "      <td>8 &amp;</td>\n",
       "      <td>6 &amp;</td>\n",
       "      <td>12 &amp;</td>\n",
       "      <td>9 &amp;</td>\n",
       "      <td>30 \\\\</td>\n",
       "    </tr>\n",
       "    <tr>\n",
       "      <th>2</th>\n",
       "      <td>3</td>\n",
       "      <td>4</td>\n",
       "      <td>5</td>\n",
       "      <td>0</td>\n",
       "      <td>2</td>\n",
       "      <td>2</td>\n",
       "      <td>3</td>\n",
       "      <td>5</td>\n",
       "      <td>7</td>\n",
       "      <td>35</td>\n",
       "      <td>...</td>\n",
       "      <td>3 &amp;</td>\n",
       "      <td>4 &amp;</td>\n",
       "      <td>5 &amp;</td>\n",
       "      <td>0 &amp;</td>\n",
       "      <td>2 &amp;</td>\n",
       "      <td>2 &amp;</td>\n",
       "      <td>3 &amp;</td>\n",
       "      <td>5 &amp;</td>\n",
       "      <td>7 &amp;</td>\n",
       "      <td>35 \\\\</td>\n",
       "    </tr>\n",
       "    <tr>\n",
       "      <th>3</th>\n",
       "      <td>4</td>\n",
       "      <td>6</td>\n",
       "      <td>4</td>\n",
       "      <td>2</td>\n",
       "      <td>0</td>\n",
       "      <td>3</td>\n",
       "      <td>2</td>\n",
       "      <td>5</td>\n",
       "      <td>4</td>\n",
       "      <td>20</td>\n",
       "      <td>...</td>\n",
       "      <td>4 &amp;</td>\n",
       "      <td>6 &amp;</td>\n",
       "      <td>4 &amp;</td>\n",
       "      <td>2 &amp;</td>\n",
       "      <td>0 &amp;</td>\n",
       "      <td>3 &amp;</td>\n",
       "      <td>2 &amp;</td>\n",
       "      <td>5 &amp;</td>\n",
       "      <td>4 &amp;</td>\n",
       "      <td>20 \\\\</td>\n",
       "    </tr>\n",
       "    <tr>\n",
       "      <th>4</th>\n",
       "      <td>5</td>\n",
       "      <td>8</td>\n",
       "      <td>8</td>\n",
       "      <td>2</td>\n",
       "      <td>3</td>\n",
       "      <td>0</td>\n",
       "      <td>2</td>\n",
       "      <td>2</td>\n",
       "      <td>4</td>\n",
       "      <td>15</td>\n",
       "      <td>...</td>\n",
       "      <td>5 &amp;</td>\n",
       "      <td>8 &amp;</td>\n",
       "      <td>8 &amp;</td>\n",
       "      <td>2 &amp;</td>\n",
       "      <td>3 &amp;</td>\n",
       "      <td>0 &amp;</td>\n",
       "      <td>2 &amp;</td>\n",
       "      <td>2 &amp;</td>\n",
       "      <td>4 &amp;</td>\n",
       "      <td>15 \\\\</td>\n",
       "    </tr>\n",
       "  </tbody>\n",
       "</table>\n",
       "<p>5 rows × 21 columns</p>\n",
       "</div>"
      ],
      "text/plain": [
       "   District \\n(from) District (to)                                Population  \\\n",
       "  Unnamed: 0_level_1             1  2  3  4  5  6   7   8 Unnamed: 9_level_1   \n",
       "0                  1             0  3  4  6  8  9   8  10                 40   \n",
       "1                  2             3  0  5  4  8  6  12   9                 30   \n",
       "2                  3             4  5  0  2  2  3   5   7                 35   \n",
       "3                  4             6  4  2  0  3  2   5   4                 20   \n",
       "4                  5             8  8  2  3  0  2   2   4                 15   \n",
       "\n",
       "   ...                                                                  \n",
       "   ...    &   1 &   2 &   3 &   4 &   5 &   6 &    7 &    8 &      \\\\   \n",
       "0  ...  1 &   0 &   3 &   4 &   6 &   8 &   9 &    8 &   10 &   40 \\\\   \n",
       "1  ...  2 &   3 &   0 &   5 &   4 &   8 &   6 &   12 &    9 &   30 \\\\   \n",
       "2  ...  3 &   4 &   5 &   0 &   2 &   2 &   3 &    5 &    7 &   35 \\\\   \n",
       "3  ...  4 &   6 &   4 &   2 &   0 &   3 &   2 &    5 &    4 &   20 \\\\   \n",
       "4  ...  5 &   8 &   8 &   2 &   3 &   0 &   2 &    2 &    4 &   15 \\\\   \n",
       "\n",
       "[5 rows x 21 columns]"
      ]
     },
     "execution_count": 3,
     "metadata": {},
     "output_type": "execute_result"
    }
   ],
   "source": [
    "problem2.head()"
   ]
  },
  {
   "cell_type": "code",
   "execution_count": 4,
   "id": "b063c78c-2502-4933-b5d2-1380312cac5e",
   "metadata": {
    "tags": []
   },
   "outputs": [],
   "source": [
    "problem2.drop(columns=problem2.columns[-11:], inplace=True)"
   ]
  },
  {
   "cell_type": "code",
   "execution_count": 5,
   "id": "105d67d9-1863-4e00-aa0e-dae25ce32c56",
   "metadata": {
    "tags": []
   },
   "outputs": [
    {
     "data": {
      "text/html": [
       "<div>\n",
       "<style scoped>\n",
       "    .dataframe tbody tr th:only-of-type {\n",
       "        vertical-align: middle;\n",
       "    }\n",
       "\n",
       "    .dataframe tbody tr th {\n",
       "        vertical-align: top;\n",
       "    }\n",
       "\n",
       "    .dataframe thead tr th {\n",
       "        text-align: left;\n",
       "    }\n",
       "</style>\n",
       "<table border=\"1\" class=\"dataframe\">\n",
       "  <thead>\n",
       "    <tr>\n",
       "      <th></th>\n",
       "      <th>District \\n(from)</th>\n",
       "      <th colspan=\"8\" halign=\"left\">District (to)</th>\n",
       "      <th>Population</th>\n",
       "    </tr>\n",
       "    <tr>\n",
       "      <th></th>\n",
       "      <th>Unnamed: 0_level_1</th>\n",
       "      <th>1</th>\n",
       "      <th>2</th>\n",
       "      <th>3</th>\n",
       "      <th>4</th>\n",
       "      <th>5</th>\n",
       "      <th>6</th>\n",
       "      <th>7</th>\n",
       "      <th>8</th>\n",
       "      <th>Unnamed: 9_level_1</th>\n",
       "    </tr>\n",
       "  </thead>\n",
       "  <tbody>\n",
       "    <tr>\n",
       "      <th>0</th>\n",
       "      <td>1</td>\n",
       "      <td>0</td>\n",
       "      <td>3</td>\n",
       "      <td>4</td>\n",
       "      <td>6</td>\n",
       "      <td>8</td>\n",
       "      <td>9</td>\n",
       "      <td>8</td>\n",
       "      <td>10</td>\n",
       "      <td>40</td>\n",
       "    </tr>\n",
       "    <tr>\n",
       "      <th>1</th>\n",
       "      <td>2</td>\n",
       "      <td>3</td>\n",
       "      <td>0</td>\n",
       "      <td>5</td>\n",
       "      <td>4</td>\n",
       "      <td>8</td>\n",
       "      <td>6</td>\n",
       "      <td>12</td>\n",
       "      <td>9</td>\n",
       "      <td>30</td>\n",
       "    </tr>\n",
       "    <tr>\n",
       "      <th>2</th>\n",
       "      <td>3</td>\n",
       "      <td>4</td>\n",
       "      <td>5</td>\n",
       "      <td>0</td>\n",
       "      <td>2</td>\n",
       "      <td>2</td>\n",
       "      <td>3</td>\n",
       "      <td>5</td>\n",
       "      <td>7</td>\n",
       "      <td>35</td>\n",
       "    </tr>\n",
       "    <tr>\n",
       "      <th>3</th>\n",
       "      <td>4</td>\n",
       "      <td>6</td>\n",
       "      <td>4</td>\n",
       "      <td>2</td>\n",
       "      <td>0</td>\n",
       "      <td>3</td>\n",
       "      <td>2</td>\n",
       "      <td>5</td>\n",
       "      <td>4</td>\n",
       "      <td>20</td>\n",
       "    </tr>\n",
       "    <tr>\n",
       "      <th>4</th>\n",
       "      <td>5</td>\n",
       "      <td>8</td>\n",
       "      <td>8</td>\n",
       "      <td>2</td>\n",
       "      <td>3</td>\n",
       "      <td>0</td>\n",
       "      <td>2</td>\n",
       "      <td>2</td>\n",
       "      <td>4</td>\n",
       "      <td>15</td>\n",
       "    </tr>\n",
       "  </tbody>\n",
       "</table>\n",
       "</div>"
      ],
      "text/plain": [
       "   District \\n(from) District (to)                                Population\n",
       "  Unnamed: 0_level_1             1  2  3  4  5  6   7   8 Unnamed: 9_level_1\n",
       "0                  1             0  3  4  6  8  9   8  10                 40\n",
       "1                  2             3  0  5  4  8  6  12   9                 30\n",
       "2                  3             4  5  0  2  2  3   5   7                 35\n",
       "3                  4             6  4  2  0  3  2   5   4                 20\n",
       "4                  5             8  8  2  3  0  2   2   4                 15"
      ]
     },
     "execution_count": 5,
     "metadata": {},
     "output_type": "execute_result"
    }
   ],
   "source": [
    "problem2.head()"
   ]
  },
  {
   "cell_type": "code",
   "execution_count": 6,
   "id": "743d40da-f152-40f6-8271-440c11a75092",
   "metadata": {
    "tags": []
   },
   "outputs": [],
   "source": [
    "problem2.columns = ['District (from)', 0,1,2,3,4,5,6,7,'Population']\n",
    "districts = problem2['District (from)']\n",
    "distance = problem2.iloc[:, 1:9]\n",
    "population = problem2['Population']"
   ]
  },
  {
   "cell_type": "code",
   "execution_count": 7,
   "id": "d9c2ec55-d120-48ad-a780-30d1870e9ec5",
   "metadata": {
    "tags": []
   },
   "outputs": [
    {
     "data": {
      "text/html": [
       "<div>\n",
       "<style scoped>\n",
       "    .dataframe tbody tr th:only-of-type {\n",
       "        vertical-align: middle;\n",
       "    }\n",
       "\n",
       "    .dataframe tbody tr th {\n",
       "        vertical-align: top;\n",
       "    }\n",
       "\n",
       "    .dataframe thead th {\n",
       "        text-align: right;\n",
       "    }\n",
       "</style>\n",
       "<table border=\"1\" class=\"dataframe\">\n",
       "  <thead>\n",
       "    <tr style=\"text-align: right;\">\n",
       "      <th></th>\n",
       "      <th>District (from)</th>\n",
       "      <th>0</th>\n",
       "      <th>1</th>\n",
       "      <th>2</th>\n",
       "      <th>3</th>\n",
       "      <th>4</th>\n",
       "      <th>5</th>\n",
       "      <th>6</th>\n",
       "      <th>7</th>\n",
       "      <th>Population</th>\n",
       "    </tr>\n",
       "  </thead>\n",
       "  <tbody>\n",
       "    <tr>\n",
       "      <th>0</th>\n",
       "      <td>1</td>\n",
       "      <td>0</td>\n",
       "      <td>3</td>\n",
       "      <td>4</td>\n",
       "      <td>6</td>\n",
       "      <td>8</td>\n",
       "      <td>9</td>\n",
       "      <td>8</td>\n",
       "      <td>10</td>\n",
       "      <td>40</td>\n",
       "    </tr>\n",
       "    <tr>\n",
       "      <th>1</th>\n",
       "      <td>2</td>\n",
       "      <td>3</td>\n",
       "      <td>0</td>\n",
       "      <td>5</td>\n",
       "      <td>4</td>\n",
       "      <td>8</td>\n",
       "      <td>6</td>\n",
       "      <td>12</td>\n",
       "      <td>9</td>\n",
       "      <td>30</td>\n",
       "    </tr>\n",
       "    <tr>\n",
       "      <th>2</th>\n",
       "      <td>3</td>\n",
       "      <td>4</td>\n",
       "      <td>5</td>\n",
       "      <td>0</td>\n",
       "      <td>2</td>\n",
       "      <td>2</td>\n",
       "      <td>3</td>\n",
       "      <td>5</td>\n",
       "      <td>7</td>\n",
       "      <td>35</td>\n",
       "    </tr>\n",
       "    <tr>\n",
       "      <th>3</th>\n",
       "      <td>4</td>\n",
       "      <td>6</td>\n",
       "      <td>4</td>\n",
       "      <td>2</td>\n",
       "      <td>0</td>\n",
       "      <td>3</td>\n",
       "      <td>2</td>\n",
       "      <td>5</td>\n",
       "      <td>4</td>\n",
       "      <td>20</td>\n",
       "    </tr>\n",
       "    <tr>\n",
       "      <th>4</th>\n",
       "      <td>5</td>\n",
       "      <td>8</td>\n",
       "      <td>8</td>\n",
       "      <td>2</td>\n",
       "      <td>3</td>\n",
       "      <td>0</td>\n",
       "      <td>2</td>\n",
       "      <td>2</td>\n",
       "      <td>4</td>\n",
       "      <td>15</td>\n",
       "    </tr>\n",
       "  </tbody>\n",
       "</table>\n",
       "</div>"
      ],
      "text/plain": [
       "   District (from)  0  1  2  3  4  5   6   7  Population\n",
       "0                1  0  3  4  6  8  9   8  10          40\n",
       "1                2  3  0  5  4  8  6  12   9          30\n",
       "2                3  4  5  0  2  2  3   5   7          35\n",
       "3                4  6  4  2  0  3  2   5   4          20\n",
       "4                5  8  8  2  3  0  2   2   4          15"
      ]
     },
     "execution_count": 7,
     "metadata": {},
     "output_type": "execute_result"
    }
   ],
   "source": [
    "problem2.head()"
   ]
  },
  {
   "cell_type": "code",
   "execution_count": 8,
   "id": "5c6c904d-869a-4e97-b880-88eb6bff5b0a",
   "metadata": {
    "tags": []
   },
   "outputs": [
    {
     "name": "stdout",
     "output_type": "stream",
     "text": [
      "Set parameter Username\n",
      "Academic license - for non-commercial use only - expires 2024-01-10\n"
     ]
    }
   ],
   "source": [
    "model_2 = Model(\"q2\")"
   ]
  },
  {
   "cell_type": "code",
   "execution_count": 9,
   "id": "202a890f-06b5-4168-9c75-2689f05938a9",
   "metadata": {
    "tags": []
   },
   "outputs": [],
   "source": [
    "y={}\n",
    "w={}\n",
    "x={}\n",
    "\n",
    "for i in districts:\n",
    "    y[i] = model_2.addVar(lb = 0, vtype = GRB.BINARY, name = \"y\" + str(i))\n",
    "    w[i] = model_2.addVar(lb = 0, vtype = GRB.INTEGER, name = \"w\" + str(i))\n",
    "    for j in districts:\n",
    "        x[i,j] = model_2.addVar(lb = 0, vtype = GRB.BINARY, name = \"x\" + str(i) + str(j))"
   ]
  },
  {
   "cell_type": "code",
   "execution_count": 10,
   "id": "b26a06ec-53e5-4f68-9da3-44915249ed8a",
   "metadata": {
    "tags": []
   },
   "outputs": [],
   "source": [
    "firefighting_times = model_2.addVar(lb = 0, vtype = GRB.CONTINUOUS, name = \"firefighting_times\")"
   ]
  },
  {
   "cell_type": "code",
   "execution_count": 11,
   "id": "23b20612-cd39-419a-a359-b1ce0bf19961",
   "metadata": {
    "tags": []
   },
   "outputs": [],
   "source": [
    "model_2.setObjective(firefighting_times, GRB.MINIMIZE)"
   ]
  },
  {
   "cell_type": "code",
   "execution_count": 12,
   "id": "22a28614-d974-46d8-9562-0638c5d3c91f",
   "metadata": {
    "tags": []
   },
   "outputs": [
    {
     "data": {
      "text/plain": [
       "{1: <gurobi.Constr *Awaiting Model Update*>,\n",
       " 2: <gurobi.Constr *Awaiting Model Update*>,\n",
       " 3: <gurobi.Constr *Awaiting Model Update*>,\n",
       " 4: <gurobi.Constr *Awaiting Model Update*>,\n",
       " 5: <gurobi.Constr *Awaiting Model Update*>,\n",
       " 6: <gurobi.Constr *Awaiting Model Update*>,\n",
       " 7: <gurobi.Constr *Awaiting Model Update*>,\n",
       " 8: <gurobi.Constr *Awaiting Model Update*>}"
      ]
     },
     "execution_count": 12,
     "metadata": {},
     "output_type": "execute_result"
    }
   ],
   "source": [
    "#add constraints and name them\n",
    "model_2.addConstrs((quicksum(x[i,j] for i in districts) == 1 for j in districts))\n",
    "model_2.addConstrs((x[i,j] <= y[i] for i in districts for j in districts))\n",
    "model_2.addConstr((quicksum(y[i] for i in districts) <= 2))\n",
    "model_2.addConstrs((w[i] >= quicksum(x[j, i] * distance[j-1][i-1]  for j in districts) for i in districts))\n",
    "model_2.addConstrs((firefighting_times >= w[i] * population[i-1] for i in districts))"
   ]
  },
  {
   "cell_type": "code",
   "execution_count": 13,
   "id": "4a4a2897-96ae-4d32-843d-eeb6002b80ce",
   "metadata": {
    "tags": []
   },
   "outputs": [
    {
     "name": "stdout",
     "output_type": "stream",
     "text": [
      "Gurobi Optimizer version 10.0.2 build v10.0.2rc0 (win64)\n",
      "\n",
      "CPU model: Intel(R) Core(TM) i7-10510U CPU @ 1.80GHz, instruction set [SSE2|AVX|AVX2]\n",
      "Thread count: 4 physical cores, 8 logical processors, using up to 8 threads\n",
      "\n",
      "Optimize a model with 89 rows, 81 columns and 280 nonzeros\n",
      "Model fingerprint: 0x4603837a\n",
      "Variable types: 1 continuous, 80 integer (72 binary)\n",
      "Coefficient statistics:\n",
      "  Matrix range     [1e+00, 6e+01]\n",
      "  Objective range  [1e+00, 1e+00]\n",
      "  Bounds range     [1e+00, 1e+00]\n",
      "  RHS range        [1e+00, 2e+00]\n",
      "Found heuristic solution: objective 240.0000000\n",
      "Presolve removed 22 rows and 22 columns\n",
      "Presolve time: 0.03s\n",
      "Presolved: 67 rows, 59 columns, 208 nonzeros\n",
      "Variable types: 0 continuous, 59 integer (58 binary)\n",
      "\n",
      "Root relaxation: objective 8.289474e+01, 52 iterations, 0.01 seconds (0.00 work units)\n",
      "\n",
      "    Nodes    |    Current Node    |     Objective Bounds      |     Work\n",
      " Expl Unexpl |  Obj  Depth IntInf | Incumbent    BestBd   Gap | It/Node Time\n",
      "\n",
      "     0     0   82.89474    0   31  240.00000   82.89474  65.5%     -    0s\n",
      "H    0     0                     135.0000000   82.89474  38.6%     -    0s\n",
      "     0     0     cutoff    0       135.00000  135.00000  0.00%     -    0s\n",
      "\n",
      "Cutting planes:\n",
      "  Zero half: 1\n",
      "  RLT: 10\n",
      "  Relax-and-lift: 5\n",
      "\n",
      "Explored 1 nodes (68 simplex iterations) in 0.12 seconds (0.00 work units)\n",
      "Thread count was 8 (of 8 available processors)\n",
      "\n",
      "Solution count 2: 135 240 \n",
      "\n",
      "Optimal solution found (tolerance 1.00e-04)\n",
      "Best objective 1.350000000000e+02, best bound 1.350000000000e+02, gap 0.0000%\n"
     ]
    }
   ],
   "source": [
    "model_2.optimize()"
   ]
  },
  {
   "cell_type": "code",
   "execution_count": 15,
   "id": "dcd9a39c-07a4-4ee2-916a-335b563b0ee9",
   "metadata": {},
   "outputs": [],
   "source": [
    "#writing the model to a file\n",
    "model_2.write(\"q2.lp\")"
   ]
  },
  {
   "cell_type": "code",
   "execution_count": 16,
   "id": "bf216633",
   "metadata": {},
   "outputs": [],
   "source": [
    "#writing the solution to a file\n",
    "model_2.write(\"q2.sol\")"
   ]
  },
  {
   "cell_type": "code",
   "execution_count": null,
   "id": "38755400",
   "metadata": {},
   "outputs": [],
   "source": []
  }
 ],
 "metadata": {
  "kernelspec": {
   "display_name": "Python 3 (ipykernel)",
   "language": "python",
   "name": "python3"
  },
  "language_info": {
   "codemirror_mode": {
    "name": "ipython",
    "version": 3
   },
   "file_extension": ".py",
   "mimetype": "text/x-python",
   "name": "python",
   "nbconvert_exporter": "python",
   "pygments_lexer": "ipython3",
   "version": "3.11.3"
  },
  "widgets": {
   "application/vnd.jupyter.widget-state+json": {
    "state": {},
    "version_major": 2,
    "version_minor": 0
   }
  }
 },
 "nbformat": 4,
 "nbformat_minor": 5
}
