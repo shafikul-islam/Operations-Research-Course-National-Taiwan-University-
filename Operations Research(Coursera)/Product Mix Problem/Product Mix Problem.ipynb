{
 "cells": [
  {
   "cell_type": "markdown",
   "metadata": {},
   "source": [
    "# Production Optimization Problem\n",
    "\n",
    "Consider the following production optimization problem:\n",
    "\n",
    "## Objective:\n",
    "Maximize the profit by producing desks and tables.\n",
    "\n",
    "**Objective Function**:\n",
    "Maximize $ \\color{blue}{\\large{\\boldsymbol{700}}}x_1 + \\color{blue}{\\large{\\boldsymbol{900}}}x_2 $\n",
    "\n",
    "## Constraints:\n",
    "\n",
    "1. **Wood Constraint**:\n",
    "   The total amount of wood used should not exceed 3600 units.\n",
    "   $$\n",
    "   \\color{green}{3x_1 + 5x_2 \\leq 3600}\n",
    "   $$\n",
    "\n",
    "2. **Labor Constraint**:\n",
    "   The total labor hours used should not exceed 1600 hours.\n",
    "   $$\n",
    "   \\color{green}{x_1 + 2x_2 \\leq 1600}\n",
    "   $$\n",
    "\n",
    "3. **Machine Constraint**:\n",
    "   The total machine hours used should not exceed 48000 hours.\n",
    "   $$\n",
    "   \\color{green}{50x_1 + 20x_2 \\leq 48000}\n",
    "   $$\n",
    "\n",
    "## Non-negativity Constraints:\n",
    "\n",
    "- $ \\color{purple}{x_1 \\geq 0} $\n",
    "- $ \\color{purple}{x_2 \\geq 0} $\n",
    "\n",
    "The variables are:\n",
    "- $x_1$: Number of desks produced in a day.\n",
    "- $x_2$: Number of tables produced in a day.\n"
   ]
  },
  {
   "cell_type": "code",
   "execution_count": 2,
   "metadata": {},
   "outputs": [],
   "source": [
    "from gurobipy import *"
   ]
  },
  {
   "cell_type": "code",
   "execution_count": 3,
   "metadata": {},
   "outputs": [
    {
     "name": "stdout",
     "output_type": "stream",
     "text": [
      "Set parameter Username\n",
      "Academic license - for non-commercial use only - expires 2024-01-10\n"
     ]
    }
   ],
   "source": [
    "# Create a Gurobi model named 'Production'\n",
    "Production = Model(\"Production\")"
   ]
  },
  {
   "cell_type": "code",
   "execution_count": 4,
   "metadata": {},
   "outputs": [
    {
     "data": {
      "text/plain": [
       "[]"
      ]
     },
     "execution_count": 4,
     "metadata": {},
     "output_type": "execute_result"
    }
   ],
   "source": [
    "# Create decision variables\n",
    "x1 = Production.addVar(vtype=GRB.CONTINUOUS, name=\"x1\")\n",
    "x2 = Production.addVar(vtype=GRB.CONTINUOUS, name=\"x2\")\n",
    "\n",
    "Production.getVars()"
   ]
  },
  {
   "cell_type": "code",
   "execution_count": 5,
   "metadata": {},
   "outputs": [],
   "source": [
    "# Update the model to include the variables\n",
    "Production.update()"
   ]
  },
  {
   "cell_type": "code",
   "execution_count": 6,
   "metadata": {},
   "outputs": [
    {
     "data": {
      "text/plain": [
       "<gurobi.LinExpr: 0.0>"
      ]
     },
     "execution_count": 6,
     "metadata": {},
     "output_type": "execute_result"
    }
   ],
   "source": [
    "# Set the objective function ( maximize 700*x1 + 900*x2)\n",
    "Production.setObjective(700 * x1 + 900 * x2, GRB.MAXIMIZE)\n",
    "\n",
    "Production.getObjective()"
   ]
  },
  {
   "cell_type": "code",
   "execution_count": 7,
   "metadata": {},
   "outputs": [
    {
     "data": {
      "text/plain": [
       "[]"
      ]
     },
     "execution_count": 7,
     "metadata": {},
     "output_type": "execute_result"
    }
   ],
   "source": [
    "# Add constraints\n",
    "Production.addConstr(3 * x1 + 5 * x2 <= 3600, \"resource_wood\")\n",
    "Production.addConstr(x1 + 2 * x2 <= 1600, \"resource_labor\")\n",
    "Production.addConstr(50 * x1 + 20 * x2 <= 48000, \"resource_machine\")\n",
    "\n",
    "Production.getConstrs()"
   ]
  },
  {
   "cell_type": "code",
   "execution_count": 8,
   "metadata": {},
   "outputs": [
    {
     "name": "stdout",
     "output_type": "stream",
     "text": [
      "Gurobi Optimizer version 10.0.2 build v10.0.2rc0 (win64)\n",
      "\n",
      "CPU model: Intel(R) Core(TM) i7-10510U CPU @ 1.80GHz, instruction set [SSE2|AVX|AVX2]\n",
      "Thread count: 4 physical cores, 8 logical processors, using up to 8 threads\n",
      "\n",
      "Optimize a model with 3 rows, 2 columns and 6 nonzeros\n",
      "Model fingerprint: 0xfc16a329\n",
      "Coefficient statistics:\n",
      "  Matrix range     [1e+00, 5e+01]\n",
      "  Objective range  [7e+02, 9e+02]\n",
      "  Bounds range     [0e+00, 0e+00]\n",
      "  RHS range        [2e+03, 5e+04]\n",
      "Presolve time: 0.02s\n",
      "Presolved: 3 rows, 2 columns, 6 nonzeros\n",
      "\n",
      "Iteration    Objective       Primal Inf.    Dual Inf.      Time\n",
      "       0    2.0000000e+32   3.593750e+30   2.000000e+02      0s\n",
      "       3    7.8947368e+05   0.000000e+00   0.000000e+00      0s\n",
      "\n",
      "Solved in 3 iterations and 0.04 seconds (0.00 work units)\n",
      "Optimal objective  7.894736842e+05\n"
     ]
    }
   ],
   "source": [
    "Production.optimize()"
   ]
  },
  {
   "cell_type": "code",
   "execution_count": 9,
   "metadata": {},
   "outputs": [
    {
     "name": "stdout",
     "output_type": "stream",
     "text": [
      "Optimal solution found.\n",
      "Objective value:  789473.6842105263\n",
      "x1 value:  884.2105263157895\n",
      "x2 value:  189.47368421052633\n"
     ]
    }
   ],
   "source": [
    "# Check if the model status is optimal\n",
    "if Production.status == GRB.Status.OPTIMAL:\n",
    "    print(\"Optimal solution found.\")\n",
    "    print(\"Objective value: \", Production.objVal)\n",
    "    print(\"x1 value: \", x1.x)\n",
    "    print(\"x2 value: \", x2.x)\n",
    "else:\n",
    "    print(\"Model could not be solved to optimality.\")"
   ]
  },
  {
   "cell_type": "markdown",
   "metadata": {},
   "source": [
    "#### To create our model more robust we will decouple the data from a model. Lets solve the same problem "
   ]
  },
  {
   "cell_type": "code",
   "execution_count": 10,
   "metadata": {},
   "outputs": [],
   "source": [
    "# Create a list for number of Product \n",
    "products = range (2) # 2 products\n",
    "resources = range (3) # 3 resources\n",
    "prices = [700 , 900]\n",
    "resource_consumptions = [[3 , 5 ],[1 , 2 ],[50 , 20]]\n",
    "resource_limitations = [3600 , 1600 , 48000]\n",
    "\n"
   ]
  },
  {
   "cell_type": "code",
   "execution_count": 11,
   "metadata": {},
   "outputs": [],
   "source": [
    "# creating Model\n",
    "production_2 = Model(\"Production\")"
   ]
  },
  {
   "cell_type": "code",
   "execution_count": 12,
   "metadata": {},
   "outputs": [],
   "source": [
    "#creating variable \n",
    "var =[]\n",
    "for i in products:\n",
    "    var.append(production_2.addVar(lb = 0 , name = \"Prod\"+str(i)))         \n",
    "    "
   ]
  },
  {
   "cell_type": "code",
   "execution_count": 13,
   "metadata": {},
   "outputs": [],
   "source": [
    "production_2.setObjective(quicksum([(prices[i]*var[i]) for i in products]),GRB.MAXIMIZE)"
   ]
  },
  {
   "cell_type": "code",
   "execution_count": 14,
   "metadata": {},
   "outputs": [
    {
     "data": {
      "text/plain": [
       "<gurobi.LinExpr: 0.0>"
      ]
     },
     "execution_count": 14,
     "metadata": {},
     "output_type": "execute_result"
    }
   ],
   "source": [
    "production_2.getObjective()"
   ]
  },
  {
   "cell_type": "code",
   "execution_count": 15,
   "metadata": {
    "tags": []
   },
   "outputs": [],
   "source": [
    "production_2.update()"
   ]
  },
  {
   "cell_type": "code",
   "execution_count": 18,
   "metadata": {},
   "outputs": [],
   "source": [
    "for i in resources: \n",
    "    production_2.addConstr(quicksum([resource_consumptions[i][j]*var[j] for j in products]) <= resource_limitations[i])"
   ]
  },
  {
   "cell_type": "code",
   "execution_count": 19,
   "metadata": {},
   "outputs": [
    {
     "data": {
      "text/plain": [
       "[]"
      ]
     },
     "execution_count": 19,
     "metadata": {},
     "output_type": "execute_result"
    }
   ],
   "source": [
    "production_2.getConstrs()"
   ]
  },
  {
   "cell_type": "code",
   "execution_count": 20,
   "metadata": {},
   "outputs": [
    {
     "name": "stdout",
     "output_type": "stream",
     "text": [
      "Gurobi Optimizer version 10.0.2 build v10.0.2rc0 (win64)\n",
      "\n",
      "CPU model: Intel(R) Core(TM) i7-10510U CPU @ 1.80GHz, instruction set [SSE2|AVX|AVX2]\n",
      "Thread count: 4 physical cores, 8 logical processors, using up to 8 threads\n",
      "\n",
      "Optimize a model with 3 rows, 2 columns and 6 nonzeros\n",
      "Model fingerprint: 0xfc16a329\n",
      "Coefficient statistics:\n",
      "  Matrix range     [1e+00, 5e+01]\n",
      "  Objective range  [7e+02, 9e+02]\n",
      "  Bounds range     [0e+00, 0e+00]\n",
      "  RHS range        [2e+03, 5e+04]\n",
      "Presolve time: 0.01s\n",
      "Presolved: 3 rows, 2 columns, 6 nonzeros\n",
      "\n",
      "Iteration    Objective       Primal Inf.    Dual Inf.      Time\n",
      "       0    2.0000000e+32   3.593750e+30   2.000000e+02      0s\n",
      "       3    7.8947368e+05   0.000000e+00   0.000000e+00      0s\n",
      "\n",
      "Solved in 3 iterations and 0.02 seconds (0.00 work units)\n",
      "Optimal objective  7.894736842e+05\n"
     ]
    }
   ],
   "source": [
    "production_2.optimize()"
   ]
  },
  {
   "cell_type": "code",
   "execution_count": 21,
   "metadata": {},
   "outputs": [],
   "source": [
    "# writing the model \n",
    "production_2.write(\"production_2.lp\")\n",
    "\n",
    "#writing the solution\n",
    "production_2.write(\"production_2.sol\")"
   ]
  },
  {
   "cell_type": "code",
   "execution_count": null,
   "metadata": {},
   "outputs": [],
   "source": []
  }
 ],
 "metadata": {
  "kernelspec": {
   "display_name": "Python 3 (ipykernel)",
   "language": "python",
   "name": "python3"
  },
  "language_info": {
   "codemirror_mode": {
    "name": "ipython",
    "version": 3
   },
   "file_extension": ".py",
   "mimetype": "text/x-python",
   "name": "python",
   "nbconvert_exporter": "python",
   "pygments_lexer": "ipython3",
   "version": "3.11.3"
  },
  "varInspector": {
   "cols": {
    "lenName": 16,
    "lenType": 16,
    "lenVar": 40
   },
   "kernels_config": {
    "python": {
     "delete_cmd_postfix": "",
     "delete_cmd_prefix": "del ",
     "library": "var_list.py",
     "varRefreshCmd": "print(var_dic_list())"
    },
    "r": {
     "delete_cmd_postfix": ") ",
     "delete_cmd_prefix": "rm(",
     "library": "var_list.r",
     "varRefreshCmd": "cat(var_dic_list()) "
    }
   },
   "types_to_exclude": [
    "module",
    "function",
    "builtin_function_or_method",
    "instance",
    "_Feature"
   ],
   "window_display": false
  }
 },
 "nbformat": 4,
 "nbformat_minor": 4
}
