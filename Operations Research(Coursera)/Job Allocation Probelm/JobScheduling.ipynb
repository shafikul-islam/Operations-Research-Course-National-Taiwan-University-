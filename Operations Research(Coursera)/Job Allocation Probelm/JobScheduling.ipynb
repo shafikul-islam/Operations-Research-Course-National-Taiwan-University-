{
 "cells": [
  {
   "cell_type": "markdown",
   "id": "379fbfa4",
   "metadata": {},
   "source": [
    "# Job Scheduling Problem\n",
    "\n",
    "We have fifteen jobs, each with its processing time, that need to be scheduled on three machines. Certain jobs are conflicting, meaning they cannot be scheduled on the same machine. The table below lists the job IDs, processing times, and sets of conflicting jobs:\n",
    "\n",
    "| Job | Processing Time | Conflicting Jobs |\n",
    "|-----|-----------------|------------------|\n",
    "| 1   | 7               | None             |\n",
    "| 2   | 4               | 5, 8             |\n",
    "| 3   | 6               | None             |\n",
    "| 4   | 9               | None             |\n",
    "| 5   | 12              | 2, 8             |\n",
    "| 6   | 8               | 9                |\n",
    "| 7   | 10              | 10               |\n",
    "| 8   | 11              | 2, 5             |\n",
    "| 9   | 8               | 6                |\n",
    "| 10  | 7               | 7                |\n",
    "| 11  | 6               | 15               |\n",
    "| 12  | 8               | None             |\n",
    "| 13  | 15              | None             |\n",
    "| 14  | 14              | None             |\n",
    "| 15  | 3               | 11               |\n",
    "\n",
    "The goal is to schedule the jobs to minimize the makespan (the maximum completion time among the machines). For example, one possible schedule could be:\n",
    "- Machine 1: Jobs 1, 4, 7, 8, and 13\n",
    "- Machine 2: Jobs 2, 6, 10, 11, and 14\n",
    "- Machine 3: Jobs 3, 5, 9, 12, and 15\n",
    "\n",
    "In this schedule, the total processing times on the three machines are 52, 39, and 37, respectively, resulting in a makespan of 52. While this is feasible, it may not be optimal. When trying to improve the schedule, we need to consider conflicting jobs. For instance, exchanging jobs 8 and 11 to reduce the makespan would result in machine 2 processing conflicting jobs 2 and 8, which is not feasible.\n"
   ]
  },
  {
   "cell_type": "code",
   "execution_count": 20,
   "id": "0ceaa332-09a8-4b94-8048-6decdf280e40",
   "metadata": {
    "tags": []
   },
   "outputs": [],
   "source": [
    "from gurobipy import *\n",
    "import pandas as pd  "
   ]
  },
  {
   "cell_type": "code",
   "execution_count": 21,
   "id": "3221ed64-5c8f-413e-8385-a4ebe80e1b53",
   "metadata": {
    "tags": []
   },
   "outputs": [],
   "source": [
    "problem1 = pd.read_excel('OR2_06_quiz_data .xlsx', 'Problem 1')"
   ]
  },
  {
   "cell_type": "code",
   "execution_count": 22,
   "id": "434ea002-5fc9-4bbe-9599-ff896ec35009",
   "metadata": {
    "tags": []
   },
   "outputs": [],
   "source": [
    "problem1.drop(columns=problem1.columns[-3:], inplace=True)\n",
    "problem1['Conflicting jobs'] = problem1['Conflicting jobs'].apply(lambda x: list(map(int, x.split(', '))) if x != \"None\" else [])"
   ]
  },
  {
   "cell_type": "code",
   "execution_count": 23,
   "id": "8fb5f17e-7c46-47ba-9ff8-396a160c946b",
   "metadata": {
    "tags": []
   },
   "outputs": [
    {
     "name": "stdout",
     "output_type": "stream",
     "text": [
      "    Job  Processing time Conflicting jobs\n",
      "0     1                7               []\n",
      "1     2                4           [5, 8]\n",
      "2     3                6               []\n",
      "3     4                9               []\n",
      "4     5               12           [2, 8]\n",
      "5     6                8              [9]\n",
      "6     7               10             [10]\n",
      "7     8               11           [2, 5]\n",
      "8     9                8              [6]\n",
      "9    10                7              [7]\n",
      "10   11                6             [15]\n",
      "11   12                8               []\n",
      "12   13               15               []\n",
      "13   14               14               []\n",
      "14   15                3             [11]\n"
     ]
    }
   ],
   "source": [
    "machines = list(range(1, 4))\n",
    "print(problem1)"
   ]
  },
  {
   "cell_type": "code",
   "execution_count": 24,
   "id": "78172be0-956f-4e27-8279-d555227c7e31",
   "metadata": {
    "tags": []
   },
   "outputs": [],
   "source": [
    "jobs = problem1['Job']\n",
    "processing_time = problem1['Processing time']\n",
    "conflicting_jobs = problem1['Conflicting jobs']"
   ]
  },
  {
   "cell_type": "code",
   "execution_count": 25,
   "id": "4d1a7b8f-08a3-4d4a-b55b-056a3019a627",
   "metadata": {
    "tags": []
   },
   "outputs": [],
   "source": [
    "model_1 = Model(\"Job Scheduling\")"
   ]
  },
  {
   "cell_type": "code",
   "execution_count": 26,
   "id": "d2b40928",
   "metadata": {},
   "outputs": [],
   "source": [
    "#creating the variables using addvars\n",
    "x = model_1.addVars(machines, jobs, vtype = GRB.BINARY, name = \"x\")"
   ]
  },
  {
   "cell_type": "code",
   "execution_count": 27,
   "id": "7a38f10e",
   "metadata": {},
   "outputs": [
    {
     "name": "stdout",
     "output_type": "stream",
     "text": [
      "Number of variables created:  45\n"
     ]
    }
   ],
   "source": [
    "#showing the variables\n",
    "model_1.update()\n",
    "model_1.getVars()\n",
    "#showing the number of variable created\n",
    "print(\"Number of variables created: \", model_1.NumVars)"
   ]
  },
  {
   "cell_type": "code",
   "execution_count": 28,
   "id": "9353ade5",
   "metadata": {},
   "outputs": [
    {
     "data": {
      "text/plain": [
       "[<gurobi.Var x[1,1]>,\n",
       " <gurobi.Var x[1,2]>,\n",
       " <gurobi.Var x[1,3]>,\n",
       " <gurobi.Var x[1,4]>,\n",
       " <gurobi.Var x[1,5]>,\n",
       " <gurobi.Var x[1,6]>,\n",
       " <gurobi.Var x[1,7]>,\n",
       " <gurobi.Var x[1,8]>,\n",
       " <gurobi.Var x[1,9]>,\n",
       " <gurobi.Var x[1,10]>,\n",
       " <gurobi.Var x[1,11]>,\n",
       " <gurobi.Var x[1,12]>,\n",
       " <gurobi.Var x[1,13]>,\n",
       " <gurobi.Var x[1,14]>,\n",
       " <gurobi.Var x[1,15]>,\n",
       " <gurobi.Var x[2,1]>,\n",
       " <gurobi.Var x[2,2]>,\n",
       " <gurobi.Var x[2,3]>,\n",
       " <gurobi.Var x[2,4]>,\n",
       " <gurobi.Var x[2,5]>,\n",
       " <gurobi.Var x[2,6]>,\n",
       " <gurobi.Var x[2,7]>,\n",
       " <gurobi.Var x[2,8]>,\n",
       " <gurobi.Var x[2,9]>,\n",
       " <gurobi.Var x[2,10]>,\n",
       " <gurobi.Var x[2,11]>,\n",
       " <gurobi.Var x[2,12]>,\n",
       " <gurobi.Var x[2,13]>,\n",
       " <gurobi.Var x[2,14]>,\n",
       " <gurobi.Var x[2,15]>,\n",
       " <gurobi.Var x[3,1]>,\n",
       " <gurobi.Var x[3,2]>,\n",
       " <gurobi.Var x[3,3]>,\n",
       " <gurobi.Var x[3,4]>,\n",
       " <gurobi.Var x[3,5]>,\n",
       " <gurobi.Var x[3,6]>,\n",
       " <gurobi.Var x[3,7]>,\n",
       " <gurobi.Var x[3,8]>,\n",
       " <gurobi.Var x[3,9]>,\n",
       " <gurobi.Var x[3,10]>,\n",
       " <gurobi.Var x[3,11]>,\n",
       " <gurobi.Var x[3,12]>,\n",
       " <gurobi.Var x[3,13]>,\n",
       " <gurobi.Var x[3,14]>,\n",
       " <gurobi.Var x[3,15]>]"
      ]
     },
     "execution_count": 28,
     "metadata": {},
     "output_type": "execute_result"
    }
   ],
   "source": [
    "model_1.getVars()"
   ]
  },
  {
   "cell_type": "code",
   "execution_count": 35,
   "id": "2cc742ad-2b82-4d52-8f8f-702a954be346",
   "metadata": {
    "tags": []
   },
   "outputs": [],
   "source": [
    "makespan = model_1.addVar(lb = 0, vtype = GRB.CONTINUOUS, name = \"makespan\")"
   ]
  },
  {
   "cell_type": "code",
   "execution_count": 36,
   "id": "3a309ab7-b53e-4a64-a200-b9b9324fcec5",
   "metadata": {
    "tags": []
   },
   "outputs": [],
   "source": [
    "#setting objective function\n",
    "model_1.setObjective(makespan, GRB.MINIMIZE)"
   ]
  },
  {
   "cell_type": "code",
   "execution_count": 37,
   "id": "b5286455-9150-4652-937f-2dda563c7651",
   "metadata": {
    "tags": []
   },
   "outputs": [
    {
     "data": {
      "text/plain": [
       "{(1, 1): <gurobi.Constr *Awaiting Model Update*>,\n",
       " (1, 2): <gurobi.Constr *Awaiting Model Update*>,\n",
       " (1, 3): <gurobi.Constr *Awaiting Model Update*>,\n",
       " (1, 4): <gurobi.Constr *Awaiting Model Update*>,\n",
       " (1, 5): <gurobi.Constr *Awaiting Model Update*>,\n",
       " (1, 6): <gurobi.Constr *Awaiting Model Update*>,\n",
       " (1, 7): <gurobi.Constr *Awaiting Model Update*>,\n",
       " (1, 8): <gurobi.Constr *Awaiting Model Update*>,\n",
       " (1, 9): <gurobi.Constr *Awaiting Model Update*>,\n",
       " (1, 10): <gurobi.Constr *Awaiting Model Update*>,\n",
       " (1, 11): <gurobi.Constr *Awaiting Model Update*>,\n",
       " (1, 12): <gurobi.Constr *Awaiting Model Update*>,\n",
       " (1, 13): <gurobi.Constr *Awaiting Model Update*>,\n",
       " (1, 14): <gurobi.Constr *Awaiting Model Update*>,\n",
       " (1, 15): <gurobi.Constr *Awaiting Model Update*>,\n",
       " (2, 1): <gurobi.Constr *Awaiting Model Update*>,\n",
       " (2, 2): <gurobi.Constr *Awaiting Model Update*>,\n",
       " (2, 3): <gurobi.Constr *Awaiting Model Update*>,\n",
       " (2, 4): <gurobi.Constr *Awaiting Model Update*>,\n",
       " (2, 5): <gurobi.Constr *Awaiting Model Update*>,\n",
       " (2, 6): <gurobi.Constr *Awaiting Model Update*>,\n",
       " (2, 7): <gurobi.Constr *Awaiting Model Update*>,\n",
       " (2, 8): <gurobi.Constr *Awaiting Model Update*>,\n",
       " (2, 9): <gurobi.Constr *Awaiting Model Update*>,\n",
       " (2, 10): <gurobi.Constr *Awaiting Model Update*>,\n",
       " (2, 11): <gurobi.Constr *Awaiting Model Update*>,\n",
       " (2, 12): <gurobi.Constr *Awaiting Model Update*>,\n",
       " (2, 13): <gurobi.Constr *Awaiting Model Update*>,\n",
       " (2, 14): <gurobi.Constr *Awaiting Model Update*>,\n",
       " (2, 15): <gurobi.Constr *Awaiting Model Update*>,\n",
       " (3, 1): <gurobi.Constr *Awaiting Model Update*>,\n",
       " (3, 2): <gurobi.Constr *Awaiting Model Update*>,\n",
       " (3, 3): <gurobi.Constr *Awaiting Model Update*>,\n",
       " (3, 4): <gurobi.Constr *Awaiting Model Update*>,\n",
       " (3, 5): <gurobi.Constr *Awaiting Model Update*>,\n",
       " (3, 6): <gurobi.Constr *Awaiting Model Update*>,\n",
       " (3, 7): <gurobi.Constr *Awaiting Model Update*>,\n",
       " (3, 8): <gurobi.Constr *Awaiting Model Update*>,\n",
       " (3, 9): <gurobi.Constr *Awaiting Model Update*>,\n",
       " (3, 10): <gurobi.Constr *Awaiting Model Update*>,\n",
       " (3, 11): <gurobi.Constr *Awaiting Model Update*>,\n",
       " (3, 12): <gurobi.Constr *Awaiting Model Update*>,\n",
       " (3, 13): <gurobi.Constr *Awaiting Model Update*>,\n",
       " (3, 14): <gurobi.Constr *Awaiting Model Update*>,\n",
       " (3, 15): <gurobi.Constr *Awaiting Model Update*>}"
      ]
     },
     "execution_count": 37,
     "metadata": {},
     "output_type": "execute_result"
    }
   ],
   "source": [
    "#constraint for performing each job once\n",
    "model_1.addConstrs((quicksum(x[i, j] for i in machines) == 1 for j in jobs))\n",
    "#constraint for not performing conflicting jobs on the same machine\n",
    "model_1.addConstrs((quicksum(x[i, g] for g in conflicting_jobs[j-1]) <= 1 for i in machines for j in jobs))"
   ]
  },
  {
   "cell_type": "code",
   "execution_count": 39,
   "id": "01e74624-018e-4bd5-81c9-669d649a0cea",
   "metadata": {
    "tags": []
   },
   "outputs": [
    {
     "data": {
      "text/plain": [
       "{1: <gurobi.Constr *Awaiting Model Update*>,\n",
       " 2: <gurobi.Constr *Awaiting Model Update*>,\n",
       " 3: <gurobi.Constr *Awaiting Model Update*>}"
      ]
     },
     "execution_count": 39,
     "metadata": {},
     "output_type": "execute_result"
    }
   ],
   "source": [
    "model_1.addConstrs((makespan >= quicksum(processing_time[j-1]*x[i, j] for j in jobs) for i in machines))"
   ]
  },
  {
   "cell_type": "code",
   "execution_count": 40,
   "id": "e7cddb05-a702-4bb0-a6d3-d2c4ae17b551",
   "metadata": {
    "tags": []
   },
   "outputs": [
    {
     "name": "stdout",
     "output_type": "stream",
     "text": [
      "Gurobi Optimizer version 10.0.2 build v10.0.2rc0 (win64)\n",
      "\n",
      "CPU model: Intel(R) Core(TM) i7-10510U CPU @ 1.80GHz, instruction set [SSE2|AVX|AVX2]\n",
      "Thread count: 4 physical cores, 8 logical processors, using up to 8 threads\n",
      "\n",
      "Optimize a model with 63 rows, 47 columns and 129 nonzeros\n",
      "Model fingerprint: 0xad127feb\n",
      "Variable types: 2 continuous, 45 integer (45 binary)\n",
      "Coefficient statistics:\n",
      "  Matrix range     [1e+00, 2e+01]\n",
      "  Objective range  [1e+00, 1e+00]\n",
      "  Bounds range     [1e+00, 1e+00]\n",
      "  RHS range        [1e+00, 1e+00]\n",
      "Found heuristic solution: objective 75.0000000\n",
      "Presolve removed 42 rows and 1 columns\n",
      "Presolve time: 0.04s\n",
      "Presolved: 21 rows, 46 columns, 102 nonzeros\n",
      "Variable types: 0 continuous, 46 integer (45 binary)\n",
      "\n",
      "Root relaxation: objective 4.266667e+01, 25 iterations, 0.01 seconds (0.00 work units)\n",
      "\n",
      "    Nodes    |    Current Node    |     Objective Bounds      |     Work\n",
      " Expl Unexpl |  Obj  Depth IntInf | Incumbent    BestBd   Gap | It/Node Time\n",
      "\n",
      "     0     0   42.66667    0    5   75.00000   42.66667  43.1%     -    0s\n",
      "H    0     0                      43.0000000   42.66667  0.78%     -    0s\n",
      "     0     0   42.66667    0    5   43.00000   42.66667  0.78%     -    0s\n",
      "\n",
      "Explored 1 nodes (25 simplex iterations) in 0.23 seconds (0.00 work units)\n",
      "Thread count was 8 (of 8 available processors)\n",
      "\n",
      "Solution count 2: 43 75 \n",
      "\n",
      "Optimal solution found (tolerance 1.00e-04)\n",
      "Best objective 4.300000000000e+01, best bound 4.300000000000e+01, gap 0.0000%\n"
     ]
    }
   ],
   "source": [
    "model_1.optimize()"
   ]
  },
  {
   "cell_type": "code",
   "execution_count": 42,
   "id": "02445a43-6cb7-4e9f-bff2-8e2209e753bb",
   "metadata": {
    "tags": []
   },
   "outputs": [
    {
     "name": "stdout",
     "output_type": "stream",
     "text": [
      "Result:\n",
      "Jobs on machine 1:  1  \n",
      "4  \n",
      "5  \n",
      "14  \n",
      "Jobs on machine 2:  2  \n",
      "6  \n",
      "7  \n",
      "11  \n",
      "13  \n",
      "Jobs on machine 3:  3  \n",
      "8  \n",
      "9  \n",
      "10  \n",
      "12  \n",
      "15  \n",
      "makespan =  43.0\n"
     ]
    }
   ],
   "source": [
    "print(\"Result:\")\n",
    "\n",
    "for i in machines:\n",
    "    print(\"Jobs on machine \" + str(i) + \": \", end=\" \")\n",
    "    for j in jobs:\n",
    "        if x[i,j].x == 1:\n",
    "            print(str(j) + \" \", end=\" \")\n",
    "            print()\n",
    "print(\"makespan = \", model_1.objVal)             "
   ]
  },
  {
   "cell_type": "code",
   "execution_count": 43,
   "id": "e1ae260a-6842-4d28-8f39-e2b118ab8e81",
   "metadata": {},
   "outputs": [
    {
     "name": "stdout",
     "output_type": "stream",
     "text": [
      "Warning: variables 45 and 46 have the same name \"makespan\"\n",
      "Warning: to let Gurobi read it back, use rlp format\n"
     ]
    }
   ],
   "source": [
    "#writing the model to a file\n",
    "model_1.write(\"JobScheduling.lp\")"
   ]
  },
  {
   "cell_type": "code",
   "execution_count": 44,
   "id": "ac8f4864",
   "metadata": {},
   "outputs": [
    {
     "name": "stdout",
     "output_type": "stream",
     "text": [
      "Warning: variables 45 and 46 have the same name \"makespan\"\n",
      "Warning: default variable names used to write solution file\n"
     ]
    }
   ],
   "source": [
    "#writing the solution to a file\n",
    "model_1.write(\"JobScheduling.sol\")"
   ]
  },
  {
   "cell_type": "code",
   "execution_count": null,
   "id": "f95742d9",
   "metadata": {},
   "outputs": [],
   "source": []
  }
 ],
 "metadata": {
  "kernelspec": {
   "display_name": "Python 3 (ipykernel)",
   "language": "python",
   "name": "python3"
  },
  "language_info": {
   "codemirror_mode": {
    "name": "ipython",
    "version": 3
   },
   "file_extension": ".py",
   "mimetype": "text/x-python",
   "name": "python",
   "nbconvert_exporter": "python",
   "pygments_lexer": "ipython3",
   "version": "3.11.3"
  }
 },
 "nbformat": 4,
 "nbformat_minor": 5
}
