{
 "cells": [
  {
   "cell_type": "markdown",
   "id": "f919a3fb-1c86-48a4-b5ca-5f98576e9643",
   "metadata": {},
   "source": [
    "# Portfolio Optimization Problem\n",
    "\n",
    "We have an opportunity to invest in three different stocks, but our budget is limited. Each stock has its own current price, expected future price, and variance of future price. Our goal is to decide whether and how much we should invest in each stock to minimize the variance (i.e., risk) of total revenue while ensuring the expected revenue is high enough.\n",
    "\n",
    "Let's define the following variables:\n",
    "\n",
    "For stock i:\n",
    "- $p_i$: Current price of stock i.\n",
    "- $\\mu_i$: Expected future price of stock i.\n",
    "- $\\sigma_i^2$: Variance of buying one share of stock i.\n",
    "- $x_i$: The shares of stock i we buy.\n",
    "\n",
    "The objective is to minimize the variance of total revenue, which can be formulated as follows:\n",
    "\n",
    "**Objective Function**:\n",
    "Minimize $ \\sum_{i=1}^{n} \\sigma_i^2 x_i^2 $\n",
    "\n",
    "**Subject to the constraints**:\n",
    "1. Budget constraint:\n",
    "   $ \\sum_{i=1}^{n} p_i x_i \\leq B $\n",
    "   (The total investment in all stocks should not exceed the budget B).\n",
    "\n",
    "2. Expected revenue constraint:\n",
    "   $ \\sum_{i=1}^{n} \\mu_i x_i \\geq R $\n",
    "   (The total expected revenue should be higher than or equal to the minimum required expected revenue R).\n",
    "\n",
    "3. Non-negativity constraints:\n",
    "   $ x_i \\geq 0 $ for $ i = 1, \\ldots , n $\n",
    "   (The number of shares bought for each stock should be non-negative).\n",
    "\n"
   ]
  },
  {
   "cell_type": "code",
   "execution_count": 17,
   "id": "a931474a-feec-4df4-b3f0-c523f205dc6e",
   "metadata": {
    "tags": []
   },
   "outputs": [],
   "source": [
    "import pandas as pd\n",
    "from gurobipy import *"
   ]
  },
  {
   "cell_type": "code",
   "execution_count": 18,
   "id": "e24a43f9-fd9a-4d8e-a5b2-6cf9f31a5c53",
   "metadata": {
    "tags": []
   },
   "outputs": [],
   "source": [
    "df = pd.read_excel(\"Portfoilio_optimization .xlsx\")"
   ]
  },
  {
   "cell_type": "code",
   "execution_count": 19,
   "id": "1ffc6f6c-8db2-47a4-a6fb-58ee4d96cec5",
   "metadata": {
    "tags": []
   },
   "outputs": [
    {
     "data": {
      "text/html": [
       "<div>\n",
       "<style scoped>\n",
       "    .dataframe tbody tr th:only-of-type {\n",
       "        vertical-align: middle;\n",
       "    }\n",
       "\n",
       "    .dataframe tbody tr th {\n",
       "        vertical-align: top;\n",
       "    }\n",
       "\n",
       "    .dataframe thead th {\n",
       "        text-align: right;\n",
       "    }\n",
       "</style>\n",
       "<table border=\"1\" class=\"dataframe\">\n",
       "  <thead>\n",
       "    <tr style=\"text-align: right;\">\n",
       "      <th></th>\n",
       "      <th>Stock</th>\n",
       "      <th>Price</th>\n",
       "      <th>Expected price</th>\n",
       "      <th>Variance of the price</th>\n",
       "    </tr>\n",
       "  </thead>\n",
       "  <tbody>\n",
       "    <tr>\n",
       "      <th>1</th>\n",
       "      <td>1</td>\n",
       "      <td>50</td>\n",
       "      <td>55</td>\n",
       "      <td>100</td>\n",
       "    </tr>\n",
       "    <tr>\n",
       "      <th>2</th>\n",
       "      <td>2</td>\n",
       "      <td>40</td>\n",
       "      <td>50</td>\n",
       "      <td>1600</td>\n",
       "    </tr>\n",
       "    <tr>\n",
       "      <th>3</th>\n",
       "      <td>3</td>\n",
       "      <td>25</td>\n",
       "      <td>20</td>\n",
       "      <td>100</td>\n",
       "    </tr>\n",
       "  </tbody>\n",
       "</table>\n",
       "</div>"
      ],
      "text/plain": [
       "   Stock  Price  Expected price  Variance of the price\n",
       "1      1     50              55                    100\n",
       "2      2     40              50                   1600\n",
       "3      3     25              20                    100"
      ]
     },
     "execution_count": 19,
     "metadata": {},
     "output_type": "execute_result"
    }
   ],
   "source": [
    "df.reset_index(drop=True, inplace=True)\n",
    "df.index += 1\n",
    "df.head()"
   ]
  },
  {
   "cell_type": "code",
   "execution_count": 20,
   "id": "7e84f30c-f8b4-48f4-bf58-4f610ef7b00e",
   "metadata": {
    "tags": []
   },
   "outputs": [
    {
     "name": "stdout",
     "output_type": "stream",
     "text": [
      "[1, 2, 3]\n"
     ]
    }
   ],
   "source": [
    "stock = list(df['Stock'])\n",
    "price = df['Price']\n",
    "expected_price = df['Expected price']\n",
    "variance = df['Variance of the price']\n",
    "\n",
    "print(stock)"
   ]
  },
  {
   "cell_type": "code",
   "execution_count": 21,
   "id": "c066320d-7c43-4545-a4b8-b7e3c7fb3777",
   "metadata": {
    "tags": []
   },
   "outputs": [],
   "source": [
    "df2 =pd.read_excel(\"Portfoilio_optimization .xlsx\",sheet_name=\"Budget and min_exp_profit\")"
   ]
  },
  {
   "cell_type": "code",
   "execution_count": 22,
   "id": "3ba83b4c-eb48-420e-83ac-3847917cd0db",
   "metadata": {
    "tags": []
   },
   "outputs": [
    {
     "data": {
      "text/html": [
       "<div>\n",
       "<style scoped>\n",
       "    .dataframe tbody tr th:only-of-type {\n",
       "        vertical-align: middle;\n",
       "    }\n",
       "\n",
       "    .dataframe tbody tr th {\n",
       "        vertical-align: top;\n",
       "    }\n",
       "\n",
       "    .dataframe thead th {\n",
       "        text-align: right;\n",
       "    }\n",
       "</style>\n",
       "<table border=\"1\" class=\"dataframe\">\n",
       "  <thead>\n",
       "    <tr style=\"text-align: right;\">\n",
       "      <th></th>\n",
       "      <th>Budget</th>\n",
       "      <th>Minimum expected profit</th>\n",
       "    </tr>\n",
       "  </thead>\n",
       "  <tbody>\n",
       "    <tr>\n",
       "      <th>0</th>\n",
       "      <td>100000</td>\n",
       "      <td>115000</td>\n",
       "    </tr>\n",
       "  </tbody>\n",
       "</table>\n",
       "</div>"
      ],
      "text/plain": [
       "   Budget  Minimum expected profit\n",
       "0  100000                   115000"
      ]
     },
     "execution_count": 22,
     "metadata": {},
     "output_type": "execute_result"
    }
   ],
   "source": [
    "df.reset_index(drop=True, inplace=True)\n",
    "df.index += 1\n",
    "df2.head()"
   ]
  },
  {
   "cell_type": "code",
   "execution_count": 23,
   "id": "09dfb019-8c5e-4e76-b407-0e945bc15484",
   "metadata": {
    "tags": []
   },
   "outputs": [],
   "source": [
    "budget = int(df2['Budget'])\n",
    "min_exp_profit = int(df2['Minimum expected profit'])"
   ]
  },
  {
   "cell_type": "code",
   "execution_count": 24,
   "id": "da7048e0-f3cb-43b2-95fa-0fb0f673c2a7",
   "metadata": {
    "tags": []
   },
   "outputs": [],
   "source": [
    "model = Model(\"Portfolio optimization\")"
   ]
  },
  {
   "cell_type": "code",
   "execution_count": 25,
   "id": "c70b5dc3-2ce8-45a9-a034-71034b0a1c5c",
   "metadata": {
    "tags": []
   },
   "outputs": [
    {
     "name": "stdout",
     "output_type": "stream",
     "text": [
      "{1: <gurobi.Var C0>, 2: <gurobi.Var C1>, 3: <gurobi.Var C2>}\n"
     ]
    }
   ],
   "source": [
    "#set up the variables\n",
    "x = model.addVars(stock, vtype=GRB.CONTINUOUS)\n",
    "model.update()\n",
    "\n",
    "print(x)"
   ]
  },
  {
   "cell_type": "code",
   "execution_count": 26,
   "id": "b83a3e7d-1565-454b-b17e-8c4ab0ced81f",
   "metadata": {
    "tags": []
   },
   "outputs": [
    {
     "data": {
      "text/plain": [
       "<gurobi.QuadExpr: 0.0 + [ 100.0 C0 ^ 2 + 1600.0 C1 ^ 2 + 100.0 C2 ^ 2 ]>"
      ]
     },
     "execution_count": 26,
     "metadata": {},
     "output_type": "execute_result"
    }
   ],
   "source": [
    "#set up the objective function\n",
    "model.setObjective(quicksum((x[i]*x[i])*(variance[i]) for i in stock), GRB.MINIMIZE)\n",
    "\n",
    "model.update()\n",
    "model.getObjective()"
   ]
  },
  {
   "cell_type": "code",
   "execution_count": 27,
   "id": "223f6a7b-fcb6-4c95-a6a3-edce9c59b2c7",
   "metadata": {
    "tags": []
   },
   "outputs": [
    {
     "data": {
      "text/plain": [
       "<gurobi.Constr *Awaiting Model Update*>"
      ]
     },
     "execution_count": 27,
     "metadata": {},
     "output_type": "execute_result"
    }
   ],
   "source": [
    "#set up the constraints\n",
    "model.addConstr(quicksum(x[i]*price[i] for i in [1,2,3]) <= budget)\n",
    "model.addConstr(quicksum(x[i]*expected_price[i] for i in [1,2,3]) >= min_exp_profit)"
   ]
  },
  {
   "cell_type": "code",
   "execution_count": 28,
   "id": "f970f359-81e5-4b36-b66a-3178f86f2e55",
   "metadata": {
    "tags": []
   },
   "outputs": [
    {
     "data": {
      "text/plain": [
       "[<gurobi.Constr R0>, <gurobi.Constr R1>]"
      ]
     },
     "execution_count": 28,
     "metadata": {},
     "output_type": "execute_result"
    }
   ],
   "source": [
    "model.update()\n",
    "model.getConstrs()"
   ]
  },
  {
   "cell_type": "code",
   "execution_count": null,
   "id": "139e448e-c327-47d7-bb79-21559f663f19",
   "metadata": {
    "tags": []
   },
   "outputs": [],
   "source": [
    "model.write(\"Portfolio optimization.lp\")"
   ]
  },
  {
   "cell_type": "code",
   "execution_count": 29,
   "id": "8f1bc51f-a232-4d96-b58c-92094659db0d",
   "metadata": {
    "tags": []
   },
   "outputs": [
    {
     "name": "stdout",
     "output_type": "stream",
     "text": [
      "Gurobi Optimizer version 10.0.2 build v10.0.2rc0 (win64)\n",
      "\n",
      "CPU model: Intel(R) Core(TM) i7-10510U CPU @ 1.80GHz, instruction set [SSE2|AVX|AVX2]\n",
      "Thread count: 4 physical cores, 8 logical processors, using up to 8 threads\n",
      "\n",
      "Optimize a model with 2 rows, 3 columns and 6 nonzeros\n",
      "Model fingerprint: 0x84ab935d\n",
      "Model has 3 quadratic objective terms\n",
      "Coefficient statistics:\n",
      "  Matrix range     [2e+01, 6e+01]\n",
      "  Objective range  [0e+00, 0e+00]\n",
      "  QObjective range [2e+02, 3e+03]\n",
      "  Bounds range     [0e+00, 0e+00]\n",
      "  RHS range        [1e+05, 1e+05]\n",
      "Presolve time: 0.01s\n",
      "Presolved: 2 rows, 3 columns, 6 nonzeros\n",
      "Presolved model has 3 quadratic objective terms\n",
      "Ordering time: 0.00s\n",
      "\n",
      "Barrier statistics:\n",
      " AA' NZ     : 1.000e+00\n",
      " Factor NZ  : 3.000e+00\n",
      " Factor Ops : 5.000e+00 (less than 1 second per iteration)\n",
      " Threads    : 1\n",
      "\n",
      "                  Objective                Residual\n",
      "Iter       Primal          Dual         Primal    Dual     Compl     Time\n",
      "   0   2.03097721e+09 -2.03097721e+09  3.40e+04 2.23e+04  3.15e+08     0s\n",
      "   1   5.66591324e+08 -4.97182349e+08  6.79e+03 7.75e+03  1.24e+08     0s\n",
      "   2   5.92995296e+08  2.34259833e+07  8.91e+03 2.69e+03  8.54e+07     0s\n",
      "   3   3.84752749e+08  2.92382908e+08  2.32e+03 7.07e+02  2.03e+07     0s\n",
      "   4   4.33655425e+08  4.72709996e+08  1.14e+03 4.30e+02  1.90e+07     0s\n",
      "   5   4.95678930e+08  8.14886122e+08  9.23e+02 2.74e+02  1.69e+07     0s\n",
      "   6   1.68275932e+09  1.24036759e+09  0.00e+00 2.74e-04  8.85e+07     0s\n",
      "   7   1.30677756e+09  1.28688757e+09  0.00e+00 6.04e-10  3.98e+06     0s\n",
      "   8   1.28890668e+09  1.28888695e+09  0.00e+00 0.00e+00  3.95e+03     0s\n",
      "   9   1.28888891e+09  1.28888889e+09  0.00e+00 2.91e-11  3.95e+00     0s\n",
      "  10   1.28888889e+09  1.28888889e+09  0.00e+00 1.96e-10  3.95e-03     0s\n",
      "  11   1.28888889e+09  1.28888889e+09  2.55e-12 2.91e-11  3.96e-06     0s\n",
      "  12   1.28888889e+09  1.28888889e+09  0.00e+00 1.35e-10  3.96e-09     0s\n",
      "\n",
      "Barrier solved model in 12 iterations and 0.05 seconds (0.00 work units)\n",
      "Optimal objective 1.28888889e+09\n",
      "\n"
     ]
    }
   ],
   "source": [
    "model.optimize()"
   ]
  },
  {
   "cell_type": "code",
   "execution_count": 30,
   "id": "6684edd6-6afa-4d6b-bc88-b24e5af314eb",
   "metadata": {
    "tags": []
   },
   "outputs": [],
   "source": [
    "model.write(\"Portfolio optimization.sol\")"
   ]
  },
  {
   "cell_type": "code",
   "execution_count": null,
   "id": "15e717e8-fef5-4728-8d51-52ec2bbdd2e4",
   "metadata": {},
   "outputs": [],
   "source": []
  }
 ],
 "metadata": {
  "kernelspec": {
   "display_name": "Python 3 (ipykernel)",
   "language": "python",
   "name": "python3"
  },
  "language_info": {
   "codemirror_mode": {
    "name": "ipython",
    "version": 3
   },
   "file_extension": ".py",
   "mimetype": "text/x-python",
   "name": "python",
   "nbconvert_exporter": "python",
   "pygments_lexer": "ipython3",
   "version": "3.11.3"
  }
 },
 "nbformat": 4,
 "nbformat_minor": 5
}
